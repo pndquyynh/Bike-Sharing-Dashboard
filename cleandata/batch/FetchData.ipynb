{
 "cells": [
  {
   "cell_type": "code",
   "execution_count": 4,
   "metadata": {},
   "outputs": [],
   "source": [
    "import requests\n",
    "import pandas as pd"
   ]
  },
  {
   "cell_type": "code",
   "execution_count": 5,
   "metadata": {},
   "outputs": [],
   "source": [
    "system_regions_url = \"https://gbfs.lyft.com/gbfs/2.3/dca-cabi/en/system_regions.json\"\n",
    "station_information_url = \"https://gbfs.lyft.com/gbfs/2.3/dca-cabi/en/station_information.json\""
   ]
  },
  {
   "cell_type": "code",
   "execution_count": 6,
   "metadata": {},
   "outputs": [],
   "source": [
    "try:\n",
    "    # Fetch system regions data\n",
    "    regions_response = requests.get(system_regions_url)\n",
    "    regions_response.raise_for_status()\n",
    "    regions_data = regions_response.json()[\"data\"][\"regions\"]\n",
    "\n",
    "    # Convert to DataFrame and save to CSV\n",
    "    regions_df = pd.DataFrame(regions_data)\n",
    "    regions_df[[\"name\", \"region_id\"]].to_csv(\"./data/system_regions.csv\", index=False)\n",
    "\n",
    "    # Fetch station information data\n",
    "    stations_response = requests.get(station_information_url)\n",
    "    stations_response.raise_for_status()\n",
    "    stations_data = stations_response.json()[\"data\"][\"stations\"]\n",
    "\n",
    "    # Convert to DataFrame and drop 'rental_uris'\n",
    "    stations_df = pd.DataFrame(stations_data)\n",
    "    if \"rental_uris\" in stations_df.columns:\n",
    "        stations_df = stations_df.drop(columns=[\"rental_uris\"])\n",
    "    \n",
    "    # Save to CSV\n",
    "    stations_df.to_csv(\"./data/station_information.csv\", index=False)\n",
    "\n",
    "except requests.exceptions.RequestException as e:\n",
    "    print(f\"Error fetching data: {e}\")\n",
    "except KeyError as e:\n",
    "    print(f\"Error processing data: {e}\")"
   ]
  }
 ],
 "metadata": {
  "kernelspec": {
   "display_name": ".venv",
   "language": "python",
   "name": "python3"
  },
  "language_info": {
   "codemirror_mode": {
    "name": "ipython",
    "version": 3
   },
   "file_extension": ".py",
   "mimetype": "text/x-python",
   "name": "python",
   "nbconvert_exporter": "python",
   "pygments_lexer": "ipython3",
   "version": "3.10.11"
  }
 },
 "nbformat": 4,
 "nbformat_minor": 2
}
