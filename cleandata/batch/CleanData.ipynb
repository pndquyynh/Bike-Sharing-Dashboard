{
 "cells": [
  {
   "cell_type": "code",
   "execution_count": 1,
   "metadata": {},
   "outputs": [],
   "source": [
    "# import pandas as pd\n",
    "import polars as pl\n",
    "import os"
   ]
  },
  {
   "cell_type": "code",
   "execution_count": 2,
   "metadata": {},
   "outputs": [
    {
     "name": "stdout",
     "output_type": "stream",
     "text": [
      "Schema: Schema([('ride_id', String), ('rideable_type', String), ('started_at', String), ('ended_at', String), ('start_station_name', String), ('start_station_id', Float64), ('end_station_name', String), ('end_station_id', Float64), ('start_lat', Float64), ('start_lng', Float64), ('end_lat', Float64), ('end_lng', Float64), ('member_casual', String)])\n",
      "Daily rental Shape: (18007255, 13)\n"
     ]
    }
   ],
   "source": [
    "from datetime import datetime, timedelta\n",
    "\n",
    "schema_overrides = {\n",
    "    \"start_station_name\": pl.Utf8,\n",
    "    \"end_station_name\": pl.Utf8,\n",
    "    \"start_lat\": pl.Float64,\n",
    "    \"start_lng\": pl.Float64,\n",
    "    \"end_lat\": pl.Float64,\n",
    "    \"end_lng\": pl.Float64,\n",
    "}\n",
    "\n",
    "null_values = [\"MTL-ECO5-03\"]\n",
    "\n",
    "daily_rental_raw = pl.read_csv(\n",
    "    \"./data/daily_rental_raw.csv\",\n",
    "    schema_overrides=schema_overrides,\n",
    "    ignore_errors=True,\n",
    "    null_values=null_values\n",
    ")\n",
    "\n",
    "print(\"Schema:\",daily_rental_raw.schema)\n",
    "print(f\"Daily rental Shape: {daily_rental_raw.shape}\")\n"
   ]
  },
  {
   "cell_type": "code",
   "execution_count": 3,
   "metadata": {},
   "outputs": [
    {
     "name": "stdout",
     "output_type": "stream",
     "text": [
      "shape: (5, 4)\n",
      "┌─────────────────────┬─────────────────────┬──────────────────┬────────────────┐\n",
      "│ started_at          ┆ ended_at            ┆ start_station_id ┆ end_station_id │\n",
      "│ ---                 ┆ ---                 ┆ ---              ┆ ---            │\n",
      "│ str                 ┆ str                 ┆ f64              ┆ f64            │\n",
      "╞═════════════════════╪═════════════════════╪══════════════════╪════════════════╡\n",
      "│ 2020-12-02 09:10:36 ┆ 2020-12-02 09:24:12 ┆ 31114.0          ┆ 31242.0        │\n",
      "│ 2020-12-31 12:46:29 ┆ 2020-12-31 14:01:07 ┆ 31606.0          ┆ 31290.0        │\n",
      "│ 2020-12-31 12:47:03 ┆ 2020-12-31 14:01:04 ┆ 31606.0          ┆ 31290.0        │\n",
      "│ 2020-12-29 13:50:51 ┆ 2020-12-29 14:12:22 ┆ 31054.0          ┆ 31010.0        │\n",
      "│ 2020-12-27 12:30:28 ┆ 2020-12-27 12:36:12 ┆ 31920.0          ┆ 31024.0        │\n",
      "└─────────────────────┴─────────────────────┴──────────────────┴────────────────┘\n"
     ]
    }
   ],
   "source": [
    "print(daily_rental_raw.select([\"started_at\", \"ended_at\",\"start_station_id\",\"end_station_id\"]).head())"
   ]
  },
  {
   "cell_type": "code",
   "execution_count": 3,
   "metadata": {},
   "outputs": [],
   "source": [
    "def cast_data(daily_rental_raw):\n",
    "    \"\"\"\n",
    "    Processes the raw daily rental data by:\n",
    "    - Converting 'started_at' and 'ended_at' columns to datetime in a America/New_York timezone.\n",
    "    - Casting 'start_station_id' and 'end_station_id' to Int64.\n",
    "    \n",
    "    Args:\n",
    "        daily_rental_raw (pl.DataFrame): The raw daily rental data.\n",
    "    \n",
    "    Returns:\n",
    "        pl.DataFrame: The processed daily rental data.\n",
    "    \"\"\"\n",
    "    return daily_rental_raw.with_columns([\n",
    "        # Convert 'started_at' to datetime and adjust time zone\n",
    "        pl.col(\"started_at\")\n",
    "          .str.to_datetime(\"%Y-%m-%d %H:%M:%S\", strict=False)\n",
    "          .dt.convert_time_zone(\"America/New_York\")\n",
    "          .alias(\"started_at\"),\n",
    "        \n",
    "        # Convert 'ended_at' to datetime and adjust time zone\n",
    "        pl.col(\"ended_at\")\n",
    "          .str.to_datetime(\"%Y-%m-%d %H:%M:%S\", strict=False)\n",
    "          .dt.convert_time_zone(\"America/New_York\")\n",
    "          .alias(\"ended_at\"),\n",
    "        \n",
    "        # Cast 'start_station_id' to Int64\n",
    "        pl.col(\"start_station_id\").cast(pl.Int64, strict=False).alias(\"start_station_id\"),\n",
    "        \n",
    "        # Cast 'end_station_id' to Int64\n",
    "        pl.col(\"end_station_id\").cast(pl.Int64, strict=False).alias(\"end_station_id\"),\n",
    "    ])\n"
   ]
  },
  {
   "cell_type": "code",
   "execution_count": 4,
   "metadata": {},
   "outputs": [
    {
     "name": "stdout",
     "output_type": "stream",
     "text": [
      "shape: (5, 4)\n",
      "┌─────────────────────────┬────────────────────────────────┬──────────────────┬────────────────┐\n",
      "│ started_at              ┆ ended_at                       ┆ start_station_id ┆ end_station_id │\n",
      "│ ---                     ┆ ---                            ┆ ---              ┆ ---            │\n",
      "│ datetime[μs,            ┆ datetime[μs, America/New_York] ┆ i64              ┆ i64            │\n",
      "│ America/New_York]       ┆                                ┆                  ┆                │\n",
      "╞═════════════════════════╪════════════════════════════════╪══════════════════╪════════════════╡\n",
      "│ 2020-12-02 04:10:36 EST ┆ 2020-12-02 04:24:12 EST        ┆ 31114            ┆ 31242          │\n",
      "│ 2020-12-31 07:46:29 EST ┆ 2020-12-31 09:01:07 EST        ┆ 31606            ┆ 31290          │\n",
      "│ 2020-12-31 07:47:03 EST ┆ 2020-12-31 09:01:04 EST        ┆ 31606            ┆ 31290          │\n",
      "│ 2020-12-29 08:50:51 EST ┆ 2020-12-29 09:12:22 EST        ┆ 31054            ┆ 31010          │\n",
      "│ 2020-12-27 07:30:28 EST ┆ 2020-12-27 07:36:12 EST        ┆ 31920            ┆ 31024          │\n",
      "└─────────────────────────┴────────────────────────────────┴──────────────────┴────────────────┘\n"
     ]
    }
   ],
   "source": [
    "# Assuming `daily_rental_raw` is your raw data\n",
    "daily_rental_casted = cast_data(daily_rental_raw)\n",
    "\n",
    "# Check the result\n",
    "print(daily_rental_casted.select([\"started_at\", \"ended_at\",\"start_station_id\",\"end_station_id\"]).head())"
   ]
  },
  {
   "cell_type": "code",
   "execution_count": 7,
   "metadata": {},
   "outputs": [
    {
     "name": "stdout",
     "output_type": "stream",
     "text": [
      "daily_rental schema: Schema([('ride_id', String), ('rideable_type', String), ('started_at', Datetime(time_unit='us', time_zone='America/New_York')), ('ended_at', Datetime(time_unit='us', time_zone='America/New_York')), ('start_station_name', String), ('start_station_id', Int64), ('end_station_name', String), ('end_station_id', Int64), ('start_lat', Float64), ('start_lng', Float64), ('end_lat', Float64), ('end_lng', Float64), ('member_casual', String)])\n",
      "Daily rental Shape: (18007255, 13)\n"
     ]
    }
   ],
   "source": [
    "# daily_rental_df = pl.DataFrame(daily_rental)\n",
    "print(\"daily_rental schema:\",daily_rental_casted.schema)\n",
    "print(f\"Daily rental Shape: {daily_rental_casted.shape}\")"
   ]
  },
  {
   "cell_type": "code",
   "execution_count": 7,
   "metadata": {},
   "outputs": [
    {
     "name": "stdout",
     "output_type": "stream",
     "text": [
      "Partial Missing Start Station Info:\n",
      "shape: (0, 4)\n",
      "┌──────────────────┬────────────────────┬───────────┬───────────┐\n",
      "│ start_station_id ┆ start_station_name ┆ start_lat ┆ start_lng │\n",
      "│ ---              ┆ ---                ┆ ---       ┆ ---       │\n",
      "│ i64              ┆ str                ┆ f64       ┆ f64       │\n",
      "╞══════════════════╪════════════════════╪═══════════╪═══════════╡\n",
      "└──────────────────┴────────────────────┴───────────┴───────────┘\n",
      "\n",
      "Partial Missing End Station Info:\n",
      "shape: (1_055, 4)\n",
      "┌────────────────┬─────────────────────────────────┬─────────┬─────────┐\n",
      "│ end_station_id ┆ end_station_name                ┆ end_lat ┆ end_lng │\n",
      "│ ---            ┆ ---                             ┆ ---     ┆ ---     │\n",
      "│ i64            ┆ str                             ┆ f64     ┆ f64     │\n",
      "╞════════════════╪═════════════════════════════════╪═════════╪═════════╡\n",
      "│ null           ┆ 17th & P St NW                  ┆ 38.91   ┆ -77.04  │\n",
      "│ null           ┆ Connecticut Ave & R St NW       ┆ 38.91   ┆ -77.05  │\n",
      "│ null           ┆ Convention Center / 7th & M St… ┆ 38.91   ┆ -77.02  │\n",
      "│ null           ┆ 4th & M St SW                   ┆ 38.88   ┆ -77.02  │\n",
      "│ null           ┆ 4th & Florida Ave NE            ┆ 38.91   ┆ -77.0   │\n",
      "│ …              ┆ …                               ┆ …       ┆ …       │\n",
      "│ null           ┆ 8th & V St NW                   ┆ 38.92   ┆ -77.02  │\n",
      "│ null           ┆ 3rd St & Pennsylvania Ave SE    ┆ 38.89   ┆ -77.0   │\n",
      "│ null           ┆ 3rd St & Pennsylvania Ave SE    ┆ 38.89   ┆ -77.0   │\n",
      "│ null           ┆ North Capitol St & G Pl NE      ┆ 38.9    ┆ -77.01  │\n",
      "│ null           ┆ Grant Circle                    ┆ 38.94   ┆ -77.02  │\n",
      "└────────────────┴─────────────────────────────────┴─────────┴─────────┘\n"
     ]
    }
   ],
   "source": [
    "def inspect_partial_missing_station_info(df: pl.DataFrame, prefix: str) -> pl.DataFrame:\n",
    "    # Filter rows where either station_id or station_name is missing\n",
    "    partial_missing = df.filter(\n",
    "        (pl.col(f\"{prefix}station_id\").is_null() & pl.col(f\"{prefix}station_name\").is_not_null()) |\n",
    "        (pl.col(f\"{prefix}station_id\").is_not_null() & pl.col(f\"{prefix}station_name\").is_null())\n",
    "    )\n",
    "    # Select relevant columns for inspection\n",
    "    return partial_missing.select(\n",
    "        pl.col(f\"{prefix}station_id\"),\n",
    "        pl.col(f\"{prefix}station_name\"),\n",
    "        pl.col(f\"{prefix}lat\"),\n",
    "        pl.col(f\"{prefix}lng\")\n",
    "    )\n",
    "\n",
    "# Inspect for both start_ and end_ stations\n",
    "partial_missing_start_station_info = inspect_partial_missing_station_info(daily_rental_casted, \"start_\")\n",
    "partial_missing_end_station_info = inspect_partial_missing_station_info(daily_rental_casted, \"end_\")\n",
    "\n",
    "# Print the results for partial missing station info\n",
    "print(\"Partial Missing Start Station Info:\")\n",
    "print(partial_missing_start_station_info)\n",
    "\n",
    "print(\"\\nPartial Missing End Station Info:\")\n",
    "print(partial_missing_end_station_info)\n"
   ]
  },
  {
   "cell_type": "code",
   "execution_count": 8,
   "metadata": {},
   "outputs": [
    {
     "name": "stdout",
     "output_type": "stream",
     "text": [
      "End Station Missing Information:\n",
      "Missing end_station_id (but end_station_name present): 1055\n",
      "Missing end_station_name (but end_station_id present): 0\n"
     ]
    }
   ],
   "source": [
    "def count_partial_missing_station_info(df: pl.DataFrame, prefix: str) -> dict:\n",
    "    # Count rows where station_id is missing but station_name is not null\n",
    "    missing_id_count = df.filter(\n",
    "        pl.col(f\"{prefix}station_id\").is_null() & pl.col(f\"{prefix}station_name\").is_not_null()\n",
    "    ).height\n",
    "\n",
    "    # Count rows where station_name is missing but station_id is not null\n",
    "    missing_name_count = df.filter(\n",
    "        pl.col(f\"{prefix}station_id\").is_not_null() & pl.col(f\"{prefix}station_name\").is_null()\n",
    "    ).height\n",
    "\n",
    "    return {\"missing_id\": missing_id_count, \"missing_name\": missing_name_count}\n",
    "\n",
    "# Get counts for end_ prefix\n",
    "end_station_missing_info = count_partial_missing_station_info(daily_rental_casted, \"end_\")\n",
    "\n",
    "# Print the results\n",
    "print(\"End Station Missing Information:\")\n",
    "print(f\"Missing end_station_id (but end_station_name present): {end_station_missing_info['missing_id']}\")\n",
    "print(f\"Missing end_station_name (but end_station_id present): {end_station_missing_info['missing_name']}\")\n"
   ]
  },
  {
   "cell_type": "code",
   "execution_count": 33,
   "metadata": {},
   "outputs": [],
   "source": [
    "station_information= pl.read_csv(\"data/station_infor.csv\").filter(\n",
    "    (pl.col(\"lat\").is_not_null()) & (pl.col(\"lon\").is_not_null())\n",
    ")\n",
    "def fill_missing_station_info_with_null(daily_rental: pl.DataFrame, station_info: pl.DataFrame) -> pl.DataFrame:\n",
    "    \"\"\"\n",
    "    Fill missing station IDs in daily_rental based on station_info, \n",
    "    and set station_id to null if station_name is missing in station_info.\n",
    "\n",
    "    Args:\n",
    "        daily_rental (pl.DataFrame): The daily rental dataset.\n",
    "        station_info (pl.DataFrame): The station information dataset.\n",
    "\n",
    "    Returns:\n",
    "        pl.DataFrame: Updated daily_rental DataFrame with missing station IDs filled, and unmatched rows set to null.\n",
    "    \"\"\"\n",
    "    # Ensure column names match between daily_rental and station_info\n",
    "    station_info = station_info.rename({\"name\": \"end_station_name\", \"short_name\": \"station_short_name\"})\n",
    "\n",
    "    # Join daily_rental with station_info on station name\n",
    "    filled_df = daily_rental.join(\n",
    "        station_info,\n",
    "        how=\"left\",\n",
    "        left_on=[\"end_station_name\"],\n",
    "        right_on=[\"end_station_name\"]\n",
    "    )\n",
    "\n",
    "    # Update end_station_id where matches are found, and set unmatched rows to null\n",
    "    filled_df = filled_df.with_columns(\n",
    "        pl.when(pl.col(\"station_short_name\").is_not_null())\n",
    "        .then(pl.col(\"station_short_name\"))\n",
    "        .otherwise(None)  # Set to null if no match is found\n",
    "        .alias(\"end_station_id\")\n",
    "    ).drop([\"station_short_name\"])  # Drop unnecessary column after filling\n",
    "\n",
    "    return filled_df\n",
    "\n"
   ]
  },
  {
   "cell_type": "code",
   "execution_count": 11,
   "metadata": {},
   "outputs": [
    {
     "name": "stdout",
     "output_type": "stream",
     "text": [
      "shape: (850_361, 2)\n",
      "┌────────────────────────────────┬────────────────┐\n",
      "│ end_station_name               ┆ end_station_id │\n",
      "│ ---                            ┆ ---            │\n",
      "│ str                            ┆ i64            │\n",
      "╞════════════════════════════════╪════════════════╡\n",
      "│ 18th St & Pennsylvania Ave NW  ┆ 31242          │\n",
      "│ Georgetown Harbor / 30th St NW ┆ 31215          │\n",
      "│ 18th St & Pennsylvania Ave NW  ┆ 31242          │\n",
      "│ Georgetown Harbor / 30th St NW ┆ 31215          │\n",
      "│ Georgetown Harbor / 30th St NW ┆ 31215          │\n",
      "│ …                              ┆ …              │\n",
      "│ null                           ┆ null           │\n",
      "│ null                           ┆ null           │\n",
      "│ null                           ┆ null           │\n",
      "│ null                           ┆ null           │\n",
      "│ null                           ┆ null           │\n",
      "└────────────────────────────────┴────────────────┘\n"
     ]
    }
   ],
   "source": [
    "# Find unmatched station names in the daily_rental that don't exist in station_info\n",
    "unmatched_names = daily_rental_casted.filter(\n",
    "    ~pl.col(\"start_station_name\").is_in(station_information[\"name\"])\n",
    ")\n",
    "print(unmatched_names.select(\"end_station_name\",\"end_station_id\"))\n"
   ]
  },
  {
   "cell_type": "code",
   "execution_count": 13,
   "metadata": {},
   "outputs": [
    {
     "name": "stdout",
     "output_type": "stream",
     "text": [
      "shape: (116_827, 2)\n",
      "┌────────────────────────────────┬────────────────┐\n",
      "│ end_station_name               ┆ end_station_id │\n",
      "│ ---                            ┆ ---            │\n",
      "│ str                            ┆ i64            │\n",
      "╞════════════════════════════════╪════════════════╡\n",
      "│ Lee Hwy & N Adams St           ┆ 31030          │\n",
      "│ 8th & K St NE                  ┆ 31660          │\n",
      "│ 8th & K St NE                  ┆ 31660          │\n",
      "│ Key Blvd & N Quinn St          ┆ 31027          │\n",
      "│ Wilson Blvd. & N. Vermont St.  ┆ 31926          │\n",
      "│ …                              ┆ …              │\n",
      "│ C & O Canal & Wisconsin Ave NW ┆ 31225          │\n",
      "│ C & O Canal & Wisconsin Ave NW ┆ 31225          │\n",
      "│ C & O Canal & Wisconsin Ave NW ┆ 31225          │\n",
      "│ C & O Canal & Wisconsin Ave NW ┆ 31225          │\n",
      "│ C & O Canal & Wisconsin Ave NW ┆ 31225          │\n",
      "└────────────────────────────────┴────────────────┘\n"
     ]
    }
   ],
   "source": [
    "cleaned_unmatched_names = unmatched_names.filter(\n",
    "    ~pl.col(\"end_station_name\").is_in(station_information[\"name\"])\n",
    ")\n",
    "\n",
    "# Display the cleaned data\n",
    "print(cleaned_unmatched_names.select(\"end_station_name\", \"end_station_id\"))"
   ]
  },
  {
   "cell_type": "code",
   "execution_count": 46,
   "metadata": {},
   "outputs": [],
   "source": [
    "def null_condition(prefix):\n",
    "    return (\n",
    "        (\n",
    "            (pl.col(f\"{prefix}station_name\").is_not_null()) &\n",
    "            (pl.col(f\"{prefix}station_id\").is_not_null()) \n",
    "        ) & (\n",
    "            (pl.col(f\"{prefix}lat\").is_not_null()) &\n",
    "            (pl.col(f\"{prefix}lng\").is_not_null())\n",
    "        ) & (\n",
    "            (pl.col(f\"{prefix}lat\").is_not_null()) &\n",
    "            (pl.col(f\"{prefix}lng\").is_not_null())\n",
    "        ) #Filter out rows with disabled/inactive station\n",
    "    )\n",
    "\n",
    "filter_condition = (\n",
    "    (pl.col(\"started_at\").is_not_null()) &\n",
    "    (pl.col(\"ended_at\").is_not_null()) &\n",
    "    null_condition(\"start_\") &\n",
    "    null_condition(\"end_\")\n",
    ")\n",
    "\n",
    "# Apply filter\n",
    "daily_rental_filtered = daily_rental_casted.filter(filter_condition)"
   ]
  },
  {
   "cell_type": "code",
   "execution_count": 47,
   "metadata": {},
   "outputs": [
    {
     "name": "stdout",
     "output_type": "stream",
     "text": [
      "shape: (1, 8)\n",
      "┌─────────────┬─────────────┬───────────┬───────────┬─────────────┬────────────┬─────────┬─────────┐\n",
      "│ start_stati ┆ start_stati ┆ start_lat ┆ start_lng ┆ end_station ┆ end_statio ┆ end_lat ┆ end_lng │\n",
      "│ on_name     ┆ on_id       ┆ ---       ┆ ---       ┆ _name       ┆ n_id       ┆ ---     ┆ ---     │\n",
      "│ ---         ┆ ---         ┆ i64       ┆ i64       ┆ ---         ┆ ---        ┆ i64     ┆ i64     │\n",
      "│ i64         ┆ i64         ┆           ┆           ┆ i64         ┆ i64        ┆         ┆         │\n",
      "╞═════════════╪═════════════╪═══════════╪═══════════╪═════════════╪════════════╪═════════╪═════════╡\n",
      "│ 0           ┆ 0           ┆ 0         ┆ 0         ┆ 0           ┆ 0          ┆ 0       ┆ 0       │\n",
      "└─────────────┴─────────────┴───────────┴───────────┴─────────────┴────────────┴─────────┴─────────┘\n"
     ]
    }
   ],
   "source": [
    "def count_nulls(df: pl.DataFrame, columns: list) -> pl.DataFrame:\n",
    "    null_counts = {\n",
    "        col: df[col].null_count() for col in columns\n",
    "    }\n",
    "    return pl.DataFrame([null_counts])\n",
    "\n",
    "# Example usage\n",
    "columns_to_check = [\n",
    "    \"start_station_name\", \"start_station_id\", \"start_lat\", \"start_lng\",\n",
    "    \"end_station_name\", \"end_station_id\", \"end_lat\", \"end_lng\"\n",
    "]\n",
    "\n",
    "# Assuming your DataFrame is named `daily_rental`\n",
    "nulls_df = count_nulls(daily_rental_filtered, columns_to_check)\n",
    "\n",
    "print(nulls_df.select(\"start_station_name\", \"start_station_id\", \"start_lat\", \"start_lng\",\n",
    "    \"end_station_name\", \"end_station_id\", \"end_lat\", \"end_lng\"))"
   ]
  },
  {
   "cell_type": "code",
   "execution_count": 48,
   "metadata": {},
   "outputs": [
    {
     "name": "stdout",
     "output_type": "stream",
     "text": [
      "daily_rental schema: Schema([('ride_id', String), ('rideable_type', String), ('started_at', Datetime(time_unit='us', time_zone='America/New_York')), ('ended_at', Datetime(time_unit='us', time_zone='America/New_York')), ('start_station_name', String), ('start_station_id', Int64), ('end_station_name', String), ('end_station_id', Int64), ('start_lat', Float64), ('start_lng', Float64), ('end_lat', Float64), ('end_lng', Float64), ('member_casual', String)])\n",
      "Daily rental Shape: (12605921, 13)\n"
     ]
    }
   ],
   "source": [
    "# daily_rental_df = pl.DataFrame(daily_rental)\n",
    "print(\"daily_rental schema:\",daily_rental_filtered.schema)\n",
    "print(f\"Daily rental Shape: {daily_rental_filtered.shape}\")"
   ]
  },
  {
   "cell_type": "code",
   "execution_count": 50,
   "metadata": {},
   "outputs": [],
   "source": [
    "# Write to CSV\n",
    "daily_rental_filtered.write_csv(\"./data/daily_rental_filtered.csv\")"
   ]
  },
  {
   "cell_type": "code",
   "execution_count": null,
   "metadata": {},
   "outputs": [],
   "source": [
    "region = pl.read_csv(\"data/regions.csv\")\n",
    "\n",
    "print(\"Region schema:\",region.schema)\n",
    "print(f\"Region Shape: {region.shape}\")\n"
   ]
  },
  {
   "cell_type": "code",
   "execution_count": 7,
   "metadata": {},
   "outputs": [
    {
     "name": "stdout",
     "output_type": "stream",
     "text": [
      "station_information schema: Schema([('short_name', Int64), ('capacity', Int64), ('region_id', Int64), ('station_id', String), ('lon', Float64), ('name', String), ('lat', Float64)])\n",
      "station_information Shape: (785, 7)\n"
     ]
    }
   ],
   "source": [
    "import polars as pl\n",
    "\n",
    "station_information= pl.read_csv(\"data/station_infor.csv\").filter(\n",
    "    (pl.col(\"lat\").is_not_null()) & (pl.col(\"lon\").is_not_null())\n",
    ")\n",
    "\n",
    "print(\"station_information schema:\",station_information.schema)\n",
    "print(f\"station_information Shape: {station_information.shape}\")\n",
    "\n",
    "station_information.write_csv(\"./data/station_info.csv\")\n"
   ]
  },
  {
   "cell_type": "code",
   "execution_count": 8,
   "metadata": {},
   "outputs": [
    {
     "name": "stdout",
     "output_type": "stream",
     "text": [
      "shape: (51, 7)\n",
      "┌────────────┬──────────┬───────────┬──────────────────┬────────────┬──────────────────┬───────────┐\n",
      "│ short_name ┆ capacity ┆ region_id ┆ station_id       ┆ lon        ┆ name             ┆ lat       │\n",
      "│ ---        ┆ ---      ┆ ---       ┆ ---              ┆ ---        ┆ ---              ┆ ---       │\n",
      "│ i64        ┆ i64      ┆ i64       ┆ str              ┆ f64        ┆ str              ┆ f64       │\n",
      "╞════════════╪══════════╪═══════════╪══════════════════╪════════════╪══════════════════╪═══════════╡\n",
      "│ 31725      ┆ 19       ┆ null      ┆ 1932168474073292 ┆ -76.982464 ┆ 16th St & North  ┆ 38.893062 │\n",
      "│            ┆          ┆           ┆ 810              ┆            ┆ Carolina Ave N…  ┆           │\n",
      "│ 31383      ┆ 11       ┆ null      ┆ 1900964406001033 ┆ -77.331794 ┆ N Shore Dr &     ┆ 38.95937  │\n",
      "│            ┆          ┆           ┆ 780              ┆            ┆ Bandit Loop      ┆           │\n",
      "│ 31396      ┆ 11       ┆ null      ┆ 1890204129337198 ┆ -77.233583 ┆ Dorr Ave &       ┆ 38.879256 │\n",
      "│            ┆          ┆           ┆ 944              ┆            ┆ Prosperity Ave   ┆           │\n",
      "│ 32289      ┆ 19       ┆ null      ┆ 1917259666206632 ┆ -77.168902 ┆ Franconia-Spring ┆ 38.766946 │\n",
      "│            ┆          ┆           ┆ 502              ┆            ┆ field Metro No…  ┆           │\n",
      "│ 31389      ┆ 11       ┆ null      ┆ 1892760823152249 ┆ -77.271538 ┆ Route 29 &       ┆ 38.869114 │\n",
      "│            ┆          ┆           ┆ 488              ┆            ┆ Circle Woods Dr  ┆           │\n",
      "│ 31427      ┆ 15       ┆ null      ┆ 1934289487117353 ┆ -77.007003 ┆ Kansas Ave &     ┆ 38.967492 │\n",
      "│            ┆          ┆           ┆ 510              ┆            ┆ Tuckerman St NW  ┆           │\n",
      "│            ┆          ┆           ┆                  ┆            ┆ /…               ┆           │\n",
      "│ 31392      ┆ 19       ┆ null      ┆ 1879766346478500 ┆ -77.079119 ┆ 39th St & Tunlaw ┆ 38.9257   │\n",
      "│            ┆          ┆           ┆ 482              ┆            ┆ Rd NW            ┆           │\n",
      "│ 32278      ┆ 12       ┆ null      ┆ 1874573898176678 ┆ -77.303349 ┆ Blenheim Blvd &  ┆ 38.846972 │\n",
      "│            ┆          ┆           ┆ 104              ┆            ┆ North St         ┆           │\n",
      "│ 31727      ┆ 19       ┆ null      ┆ 1941813138517442 ┆ -76.980715 ┆ 17th St &        ┆ 38.882458 │\n",
      "│            ┆          ┆           ┆ 794              ┆            ┆ Potomac Ave SE / ┆           │\n",
      "│            ┆          ┆           ┆                  ┆            ┆ Con…             ┆           │\n",
      "│ 32298      ┆ 11       ┆ null      ┆ 1957757292469049 ┆ -77.204762 ┆ Chain Bridge Rd  ┆ 38.925572 │\n",
      "│            ┆          ┆           ┆ 786              ┆            ┆ & Anderson Rd    ┆           │\n",
      "│ 31338      ┆ 15       ┆ null      ┆ 1928837279316128 ┆ -77.058468 ┆ Connecticut Ave  ┆ 38.935842 │\n",
      "│            ┆          ┆           ┆ 558              ┆            ┆ & Ordway St NW…  ┆           │\n",
      "│ 32297      ┆ 11       ┆ null      ┆ 1957750905852681 ┆ -77.241518 ┆ Hilltop Rd &     ┆ 38.876903 │\n",
      "│            ┆          ┆           ┆ 124              ┆            ┆ Willowmere Dr    ┆           │\n",
      "│ 31381      ┆ 12       ┆ null      ┆ 1900610962867255 ┆ -77.220829 ┆ Westbranch Dr &  ┆ 38.927943 │\n",
      "│            ┆          ┆           ┆ 780              ┆            ┆ Maitland St      ┆           │\n",
      "│ 31428      ┆ 15       ┆ null      ┆ 1939176485434179 ┆ -77.066409 ┆ Western Ave &    ┆ 38.975739 │\n",
      "│            ┆          ┆           ┆ 842              ┆            ┆ Pinehurst Cir    ┆           │\n",
      "│            ┆          ┆           ┆                  ┆            ┆ NW…              ┆           │\n",
      "│ 31391      ┆ 19       ┆ null      ┆ 1877753940179542 ┆ -77.086263 ┆ 44th St & New    ┆ 38.933899 │\n",
      "│            ┆          ┆           ┆ 324              ┆            ┆ Mexico Ave NW    ┆           │\n",
      "│ 31386      ┆ 11       ┆ null      ┆ 1893303738183408 ┆ -77.230377 ┆ Prosperity Ave & ┆ 38.881436 │\n",
      "│            ┆          ┆           ┆ 178              ┆            ┆ Avenir Pl        ┆           │\n",
      "│ 32288      ┆ 12       ┆ null      ┆ 1917259953969440 ┆ -77.160014 ┆ Seatrend Way &   ┆ 38.775639 │\n",
      "│            ┆          ┆           ┆ 770              ┆            ┆ Topsails Ln      ┆           │\n",
      "│ 31545      ┆ 15       ┆ null      ┆ 1934708272694780 ┆ -76.980378 ┆ 18th & Upshur St ┆ 38.941733 │\n",
      "│            ┆          ┆           ┆ 030              ┆            ┆ NE               ┆           │\n",
      "│ 31544      ┆ 15       ┆ null      ┆ 1934706002043462 ┆ -76.978783 ┆ Michigan Ave &   ┆ 38.945068 │\n",
      "│            ┆          ┆           ┆ 112              ┆            ┆ Allison St NE    ┆           │\n",
      "│ 32281      ┆ 12       ┆ null      ┆ 1875305027705686 ┆ -77.293922 ┆ Fair Woods Pkwy  ┆ 38.862804 │\n",
      "│            ┆          ┆           ┆ 898              ┆            ┆ & Fairfax Blvd   ┆           │\n",
      "│ 31728      ┆ 12       ┆ null      ┆ 1950995089993550 ┆ -76.922783 ┆ 55th & East      ┆ 38.889926 │\n",
      "│            ┆          ┆           ┆ 758              ┆            ┆ Capitol St NE    ┆           │\n",
      "│ 31339      ┆ 19       ┆ null      ┆ 1931715167823202 ┆ -77.041362 ┆ 18th St &        ┆ 38.934784 │\n",
      "│            ┆          ┆           ┆ 508              ┆            ┆ Ingleside Ter NW ┆           │\n",
      "│ 32295      ┆ 15       ┆ null      ┆ 1929517249726509 ┆ -77.308069 ┆ GMU/Horizon Hall ┆ 38.831211 │\n",
      "│            ┆          ┆           ┆ 974              ┆            ┆ & Harris Thea…   ┆           │\n",
      "│ 31387      ┆ 11       ┆ null      ┆ 1892762694406615 ┆ -77.282083 ┆ Kingsbridge Dr & ┆ 38.868545 │\n",
      "│            ┆          ┆           ┆ 240              ┆            ┆ Draper Dr        ┆           │\n",
      "│ 31394      ┆ 19       ┆ null      ┆ 1884993950171398 ┆ -77.083704 ┆ New Mexico &     ┆ 38.930316 │\n",
      "│            ┆          ┆           ┆ 452              ┆            ┆ Cathedral Ave NW ┆           │\n",
      "│ 31380      ┆ 12       ┆ null      ┆ 1901331776956725 ┆ -77.350396 ┆ Sunrise Valley   ┆ 38.949366 │\n",
      "│            ┆          ┆           ┆ 958              ┆            ┆ Dr & Roland Cla… ┆           │\n",
      "│ 31398      ┆ 12       ┆ null      ┆ 1890899353648060 ┆ -77.241436 ┆ Tyco Rd & Boyd   ┆ 38.930767 │\n",
      "│            ┆          ┆           ┆ 422              ┆            ┆ Pointe Way       ┆           │\n",
      "│ 32276      ┆ 12       ┆ null      ┆ 1872703318198888 ┆ -77.271911 ┆ Fairfax Blvd &   ┆ 38.865091 │\n",
      "│            ┆          ┆           ┆ 690              ┆            ┆ Pickett Rd Nort… ┆           │\n",
      "│ 31979      ┆ 15       ┆ null      ┆ 1869388517211023 ┆ -77.047846 ┆ Potomac Yard     ┆ 38.833437 │\n",
      "│            ┆          ┆           ┆ 780              ┆            ┆ Metro South      ┆           │\n",
      "│ 32283      ┆ 12       ┆ null      ┆ 1877158937567185 ┆ -77.305336 ┆ South St &       ┆ 38.844249 │\n",
      "│            ┆          ┆           ┆ 816              ┆            ┆ University Dr    ┆           │\n",
      "│ 32282      ┆ 12       ┆ null      ┆ 1877540418168925 ┆ -77.30938  ┆ School St &      ┆ 38.837382 │\n",
      "│            ┆          ┆           ┆ 068              ┆            ┆ George Mason     ┆           │\n",
      "│            ┆          ┆           ┆                  ┆            ┆ Blvd             ┆           │\n",
      "│ 32294      ┆ 12       ┆ null      ┆ 1929488700232798 ┆ -77.307057 ┆ GMU/Rappahannock ┆ 38.8348   │\n",
      "│            ┆          ┆           ┆ 842              ┆            ┆ River Ln         ┆           │\n",
      "│ 31337      ┆ 19       ┆ null      ┆ 1926924117062925 ┆ -77.066074 ┆ 33rd St &        ┆ 38.912181 │\n",
      "│            ┆          ┆           ┆ 284              ┆            ┆ Wisconsin Ave NW ┆           │\n",
      "│ 32296      ┆ 12       ┆ null      ┆ 1957669092295526 ┆ -77.156504 ┆ Metro Park Dr &  ┆ 38.76843  │\n",
      "│            ┆          ┆           ┆ 720              ┆            ┆ Walker Ln        ┆           │\n",
      "│ 32277      ┆ 12       ┆ null      ┆ 1873077316413198 ┆ -77.302732 ┆ Layton Hall Dr & ┆ 38.850932 │\n",
      "│            ┆          ┆           ┆ 460              ┆            ┆ University Dr    ┆           │\n",
      "│ 31336      ┆ 23       ┆ null      ┆ 1926601045514275 ┆ -77.023885 ┆ 9th & N St NW    ┆ 38.906622 │\n",
      "│            ┆          ┆           ┆ 106              ┆            ┆                  ┆           │\n",
      "│ 31546      ┆ 15       ┆ null      ┆ 1936546121234841 ┆ -76.991829 ┆ South Dakota Ave ┆ 38.948307 │\n",
      "│            ┆          ┆           ┆ 642              ┆            ┆ & Decatur St …   ┆           │\n",
      "│ 32293      ┆ 12       ┆ null      ┆ 1929488402496518 ┆ -77.304157 ┆ GMU/Patriot Cir  ┆ 38.827501 │\n",
      "│            ┆          ┆           ┆ 868              ┆            ┆ & York Dr        ┆           │\n",
      "│ 31385      ┆ 12       ┆ null      ┆ 1893304030462804 ┆ -77.21246  ┆ Old Meadow Rd &  ┆ 38.918988 │\n",
      "│            ┆          ┆           ┆ 528              ┆            ┆ Old Meadow Ln    ┆           │\n",
      "│ 32280      ┆ 12       ┆ null      ┆ 1875304680551764 ┆ -77.304435 ┆ University Dr &  ┆ 38.849411 │\n",
      "│            ┆          ┆           ┆ 838              ┆            ┆ Democracy Ln     ┆           │\n",
      "│ 32274      ┆ 12       ┆ null      ┆ 1871684492868499 ┆ -77.282077 ┆ Beech Dr at      ┆ 38.866659 │\n",
      "│            ┆          ┆           ┆ 562              ┆            ┆ Draper Dr Park   ┆           │\n",
      "│ 31831      ┆ 12       ┆ null      ┆ 1936549598369980 ┆ -76.970997 ┆ 25th & S St SE   ┆ 38.868356 │\n",
      "│            ┆          ┆           ┆ 886              ┆            ┆                  ┆           │\n",
      "│ 31395      ┆ 19       ┆ null      ┆ 1885353633083910 ┆ -77.077214 ┆ Massachusetts &  ┆ 38.931349 │\n",
      "│            ┆          ┆           ┆ 806              ┆            ┆ Idaho Ave NW     ┆           │\n",
      "│ 32279      ┆ 12       ┆ null      ┆ 1874574408754907 ┆ -77.30718  ┆ George Mason     ┆ 38.841099 │\n",
      "│            ┆          ┆           ┆ 832              ┆            ┆ Blvd & Armstrong ┆           │\n",
      "│            ┆          ┆           ┆                  ┆            ┆ …                ┆           │\n",
      "│ 32290      ┆ 12       ┆ null      ┆ 1917259365558921 ┆ -77.150359 ┆ Charles          ┆ 38.766844 │\n",
      "│            ┆          ┆           ┆ 792              ┆            ┆ Arrington Dr &   ┆           │\n",
      "│            ┆          ┆           ┆                  ┆            ┆ Manches…         ┆           │\n",
      "│ 31399      ┆ 12       ┆ null      ┆ 1890899920583743 ┆ -77.213879 ┆ Old Meadow Rd &  ┆ 38.916908 │\n",
      "│            ┆          ┆           ┆ 818              ┆            ┆ Cathy Ln         ┆           │\n",
      "│ 31393      ┆ 15       ┆ null      ┆ 1880134928431421 ┆ -77.07643  ┆ Wisconsin Ave &  ┆ 38.941808 │\n",
      "│            ┆          ┆           ┆ 876              ┆            ┆ Upton St NW      ┆           │\n",
      "│ 31726      ┆ 12       ┆ null      ┆ 1936548863063266 ┆ -76.957511 ┆ 34th St &        ┆ 38.883843 │\n",
      "│            ┆          ┆           ┆ 016              ┆            ┆ Minnesota Ave SE ┆           │\n",
      "│ 32275      ┆ 12       ┆ null      ┆ 1872701449888114 ┆ -77.271483 ┆ Fairfax Blvd &   ┆ 38.86476  │\n",
      "│            ┆          ┆           ┆ 846              ┆            ┆ Pickett Rd Sout… ┆           │\n",
      "│ 31981      ┆ 17       ┆ null      ┆ 1959879531637832 ┆ -77.109609 ┆ Columbia Pike &  ┆ 38.856645 │\n",
      "│            ┆          ┆           ┆ 180              ┆            ┆ W&OD Trail       ┆           │\n",
      "│ null       ┆ null     ┆ null      ┆ null             ┆ null       ┆ null             ┆ null      │\n",
      "└────────────┴──────────┴───────────┴──────────────────┴────────────┴──────────────────┴───────────┘\n"
     ]
    }
   ],
   "source": [
    "# Count the number of NULL values in each column\n",
    "null_counts = station_information.select([pl.col(c).is_null().sum().alias(c + \"_null_count\") for c in station_information.columns])\n",
    "\n",
    "# Print the result\n",
    "print(null_counts)"
   ]
  }
 ],
 "metadata": {
  "kernelspec": {
   "display_name": ".venv",
   "language": "python",
   "name": "python3"
  },
  "language_info": {
   "codemirror_mode": {
    "name": "ipython",
    "version": 3
   },
   "file_extension": ".py",
   "mimetype": "text/x-python",
   "name": "python",
   "nbconvert_exporter": "python",
   "pygments_lexer": "ipython3",
   "version": "3.10.11"
  }
 },
 "nbformat": 4,
 "nbformat_minor": 2
}
