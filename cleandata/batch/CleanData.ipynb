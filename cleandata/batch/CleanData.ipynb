{
 "cells": [
  {
   "cell_type": "code",
   "execution_count": 1,
   "metadata": {},
   "outputs": [],
   "source": [
    "import polars as pl\n",
    "import os"
   ]
  },
  {
   "cell_type": "code",
   "execution_count": 2,
   "metadata": {},
   "outputs": [
    {
     "name": "stdout",
     "output_type": "stream",
     "text": [
      "Schema: Schema([('ride_id', String), ('rideable_type', String), ('started_at', String), ('ended_at', String), ('start_station_name', String), ('start_station_id', Float64), ('end_station_name', String), ('end_station_id', Float64), ('start_lat', Float64), ('start_lng', Float64), ('end_lat', Float64), ('end_lng', Float64), ('member_casual', String)])\n",
      "Daily rental Shape: (18007255, 13)\n"
     ]
    }
   ],
   "source": [
    "from datetime import datetime, timedelta\n",
    "\n",
    "schema_overrides = {\n",
    "    \"start_station_name\": pl.Utf8,\n",
    "    \"end_station_name\": pl.Utf8,\n",
    "    \"start_lat\": pl.Float64,\n",
    "    \"start_lng\": pl.Float64,\n",
    "    \"end_lat\": pl.Float64,\n",
    "    \"end_lng\": pl.Float64,\n",
    "}\n",
    "\n",
    "null_values = [\"MTL-ECO5-03\"]\n",
    "\n",
    "daily_rental_raw = pl.read_csv(\n",
    "    \"./data/daily_rental_raw.csv\",\n",
    "    schema_overrides=schema_overrides,\n",
    "    ignore_errors=True,\n",
    "    null_values=null_values\n",
    ")\n",
    "\n",
    "print(\"Schema:\",daily_rental_raw.schema)\n",
    "print(f\"Daily rental Shape: {daily_rental_raw.shape}\")\n"
   ]
  },
  {
   "cell_type": "code",
   "execution_count": 3,
   "metadata": {},
   "outputs": [
    {
     "name": "stdout",
     "output_type": "stream",
     "text": [
      "shape: (5, 4)\n",
      "┌─────────────────────┬─────────────────────┬──────────────────┬────────────────┐\n",
      "│ started_at          ┆ ended_at            ┆ start_station_id ┆ end_station_id │\n",
      "│ ---                 ┆ ---                 ┆ ---              ┆ ---            │\n",
      "│ str                 ┆ str                 ┆ f64              ┆ f64            │\n",
      "╞═════════════════════╪═════════════════════╪══════════════════╪════════════════╡\n",
      "│ 2020-12-02 09:10:36 ┆ 2020-12-02 09:24:12 ┆ 31114.0          ┆ 31242.0        │\n",
      "│ 2020-12-31 12:46:29 ┆ 2020-12-31 14:01:07 ┆ 31606.0          ┆ 31290.0        │\n",
      "│ 2020-12-31 12:47:03 ┆ 2020-12-31 14:01:04 ┆ 31606.0          ┆ 31290.0        │\n",
      "│ 2020-12-29 13:50:51 ┆ 2020-12-29 14:12:22 ┆ 31054.0          ┆ 31010.0        │\n",
      "│ 2020-12-27 12:30:28 ┆ 2020-12-27 12:36:12 ┆ 31920.0          ┆ 31024.0        │\n",
      "└─────────────────────┴─────────────────────┴──────────────────┴────────────────┘\n"
     ]
    }
   ],
   "source": [
    "print(daily_rental_raw.select([\"started_at\", \"ended_at\",\"start_station_id\",\"end_station_id\"]).head())"
   ]
  },
  {
   "cell_type": "code",
   "execution_count": 3,
   "metadata": {},
   "outputs": [],
   "source": [
    "def cast_data(daily_rental_raw):\n",
    "    return daily_rental_raw.with_columns([\n",
    "        pl.col(\"started_at\")\n",
    "          .str.to_datetime(\"%Y-%m-%d %H:%M:%S\", strict=False)\n",
    "          .dt.convert_time_zone(\"America/New_York\")\n",
    "          .alias(\"started_at\"),\n",
    "        pl.col(\"ended_at\")\n",
    "          .str.to_datetime(\"%Y-%m-%d %H:%M:%S\", strict=False)\n",
    "          .dt.convert_time_zone(\"America/New_York\")\n",
    "          .alias(\"ended_at\"),\n",
    "        pl.col(\"start_station_id\").cast(pl.Int64, strict=False).alias(\"start_station_id\"),\n",
    "        pl.col(\"end_station_id\").cast(pl.Int64, strict=False).alias(\"end_station_id\"),\n",
    "    ])\n"
   ]
  },
  {
   "cell_type": "code",
   "execution_count": 4,
   "metadata": {},
   "outputs": [
    {
     "name": "stdout",
     "output_type": "stream",
     "text": [
      "shape: (5, 4)\n",
      "┌─────────────────────────┬────────────────────────────────┬──────────────────┬────────────────┐\n",
      "│ started_at              ┆ ended_at                       ┆ start_station_id ┆ end_station_id │\n",
      "│ ---                     ┆ ---                            ┆ ---              ┆ ---            │\n",
      "│ datetime[μs,            ┆ datetime[μs, America/New_York] ┆ i64              ┆ i64            │\n",
      "│ America/New_York]       ┆                                ┆                  ┆                │\n",
      "╞═════════════════════════╪════════════════════════════════╪══════════════════╪════════════════╡\n",
      "│ 2020-12-02 04:10:36 EST ┆ 2020-12-02 04:24:12 EST        ┆ 31114            ┆ 31242          │\n",
      "│ 2020-12-31 07:46:29 EST ┆ 2020-12-31 09:01:07 EST        ┆ 31606            ┆ 31290          │\n",
      "│ 2020-12-31 07:47:03 EST ┆ 2020-12-31 09:01:04 EST        ┆ 31606            ┆ 31290          │\n",
      "│ 2020-12-29 08:50:51 EST ┆ 2020-12-29 09:12:22 EST        ┆ 31054            ┆ 31010          │\n",
      "│ 2020-12-27 07:30:28 EST ┆ 2020-12-27 07:36:12 EST        ┆ 31920            ┆ 31024          │\n",
      "└─────────────────────────┴────────────────────────────────┴──────────────────┴────────────────┘\n"
     ]
    }
   ],
   "source": [
    "daily_rental_casted = cast_data(daily_rental_raw)\n",
    "\n",
    "print(daily_rental_casted.select([\"started_at\", \"ended_at\",\"start_station_id\",\"end_station_id\"]).head())"
   ]
  },
  {
   "cell_type": "code",
   "execution_count": 46,
   "metadata": {},
   "outputs": [],
   "source": [
    "def null_condition(prefix):\n",
    "    return (\n",
    "        (\n",
    "            (pl.col(f\"{prefix}station_name\").is_not_null()) &\n",
    "            (pl.col(f\"{prefix}station_id\").is_not_null()) \n",
    "        ) & (\n",
    "            (pl.col(f\"{prefix}lat\").is_not_null()) &\n",
    "            (pl.col(f\"{prefix}lng\").is_not_null())\n",
    "        )\n",
    "    )\n",
    "\n",
    "filter_condition = (\n",
    "    (pl.col(\"started_at\").is_not_null()) &\n",
    "    (pl.col(\"ended_at\").is_not_null()) &\n",
    "    null_condition(\"start_\") &\n",
    "    null_condition(\"end_\")\n",
    ")\n",
    "\n",
    "daily_rental_filtered = daily_rental_casted.filter(filter_condition)"
   ]
  },
  {
   "cell_type": "code",
   "execution_count": 47,
   "metadata": {},
   "outputs": [
    {
     "name": "stdout",
     "output_type": "stream",
     "text": [
      "shape: (1, 8)\n",
      "┌─────────────┬─────────────┬───────────┬───────────┬─────────────┬────────────┬─────────┬─────────┐\n",
      "│ start_stati ┆ start_stati ┆ start_lat ┆ start_lng ┆ end_station ┆ end_statio ┆ end_lat ┆ end_lng │\n",
      "│ on_name     ┆ on_id       ┆ ---       ┆ ---       ┆ _name       ┆ n_id       ┆ ---     ┆ ---     │\n",
      "│ ---         ┆ ---         ┆ i64       ┆ i64       ┆ ---         ┆ ---        ┆ i64     ┆ i64     │\n",
      "│ i64         ┆ i64         ┆           ┆           ┆ i64         ┆ i64        ┆         ┆         │\n",
      "╞═════════════╪═════════════╪═══════════╪═══════════╪═════════════╪════════════╪═════════╪═════════╡\n",
      "│ 0           ┆ 0           ┆ 0         ┆ 0         ┆ 0           ┆ 0          ┆ 0       ┆ 0       │\n",
      "└─────────────┴─────────────┴───────────┴───────────┴─────────────┴────────────┴─────────┴─────────┘\n"
     ]
    }
   ],
   "source": [
    "def count_nulls(df: pl.DataFrame, columns: list) -> pl.DataFrame:\n",
    "    null_counts = {\n",
    "        col: df[col].null_count() for col in columns\n",
    "    }\n",
    "    return pl.DataFrame([null_counts])\n",
    "\n",
    "columns_to_check = [\n",
    "    \"start_station_name\", \"start_station_id\", \"start_lat\", \"start_lng\",\n",
    "    \"end_station_name\", \"end_station_id\", \"end_lat\", \"end_lng\"\n",
    "]\n",
    "\n",
    "nulls_df = count_nulls(daily_rental_filtered, columns_to_check)\n",
    "\n",
    "print(nulls_df.select(\"start_station_name\", \"start_station_id\", \"start_lat\", \"start_lng\",\n",
    "    \"end_station_name\", \"end_station_id\", \"end_lat\", \"end_lng\"))"
   ]
  },
  {
   "cell_type": "code",
   "execution_count": 7,
   "metadata": {},
   "outputs": [
    {
     "name": "stdout",
     "output_type": "stream",
     "text": [
      "daily_rental schema: Schema([('ride_id', String), ('rideable_type', String), ('started_at', String), ('ended_at', String), ('start_station_name', String), ('start_station_id', Int64), ('end_station_name', String), ('end_station_id', Int64), ('start_lat', Float64), ('start_lng', Float64), ('end_lat', Float64), ('end_lng', Float64), ('member_casual', String)])\n",
      "Daily rental Shape: (12605921, 13)\n"
     ]
    }
   ],
   "source": [
    "daily_rental = pl.read_csv(\"./data/daily_rental.csv\")\n",
    "daily_rental_df = pl.DataFrame(daily_rental)\n",
    "print(\"daily_rental schema:\",daily_rental_df.schema)\n",
    "print(f\"Daily rental Shape: {daily_rental_df.shape}\")"
   ]
  },
  {
   "cell_type": "code",
   "execution_count": 50,
   "metadata": {},
   "outputs": [],
   "source": [
    "daily_rental_filtered.write_csv(\"./data/daily_rental_filtered.csv\")"
   ]
  },
  {
   "cell_type": "code",
   "execution_count": null,
   "metadata": {},
   "outputs": [],
   "source": [
    "region = pl.read_csv(\"data/regions.csv\")\n",
    "\n",
    "print(\"Region schema:\",region.schema)\n",
    "print(f\"Region Shape: {region.shape}\")\n"
   ]
  },
  {
   "cell_type": "code",
   "execution_count": 7,
   "metadata": {},
   "outputs": [
    {
     "name": "stdout",
     "output_type": "stream",
     "text": [
      "station_information schema: Schema([('short_name', Int64), ('capacity', Int64), ('region_id', Int64), ('station_id', String), ('lon', Float64), ('name', String), ('lat', Float64)])\n",
      "station_information Shape: (785, 7)\n"
     ]
    }
   ],
   "source": [
    "station_information= pl.read_csv(\"data/station_infor.csv\").filter(\n",
    "    (pl.col(\"lat\").is_not_null()) & (pl.col(\"lon\").is_not_null())\n",
    ")\n",
    "\n",
    "print(\"station_information schema:\",station_information.schema)\n",
    "print(f\"station_information Shape: {station_information.shape}\")\n",
    "\n",
    "station_information.write_csv(\"./data/station_info.csv\")\n"
   ]
  }
 ],
 "metadata": {
  "kernelspec": {
   "display_name": ".venv",
   "language": "python",
   "name": "python3"
  },
  "language_info": {
   "codemirror_mode": {
    "name": "ipython",
    "version": 3
   },
   "file_extension": ".py",
   "mimetype": "text/x-python",
   "name": "python",
   "nbconvert_exporter": "python",
   "pygments_lexer": "ipython3",
   "version": "3.10.11"
  }
 },
 "nbformat": 4,
 "nbformat_minor": 2
}
