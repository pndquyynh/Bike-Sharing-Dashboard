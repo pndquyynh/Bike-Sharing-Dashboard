{
 "cells": [
  {
   "cell_type": "code",
   "execution_count": 1,
   "metadata": {},
   "outputs": [],
   "source": [
    "# import pandas as pd\n",
    "import polars as pl\n",
    "import os"
   ]
  },
  {
   "cell_type": "code",
   "execution_count": 2,
   "metadata": {},
   "outputs": [],
   "source": [
    "from datetime import datetime, timedelta\n",
    "\n",
    "# Load the CSV file\n",
    "daily_rental = \"./data/daily_rental_raw.csv\"\n",
    "\n",
    "schema_overrides = {\n",
    "    \"start_station_name\": pl.Utf8,\n",
    "    \"end_station_name\": pl.Utf8,\n",
    "    \"start_lat\": pl.Float64,\n",
    "    \"start_lng\": pl.Float64,\n",
    "    \"end_lat\": pl.Float64,\n",
    "    \"end_lng\": pl.Float64,\n",
    "    \"start_station_id\": pl.Int64,\n",
    "    \"end_station_id\": pl.Int64 \n",
    "}\n",
    "\n",
    "null_values = [\"MTL-ECO5-03\"]\n",
    "\n",
    "daily_rental_df = pl.read_csv(\n",
    "    daily_rental,\n",
    "    schema_overrides=schema_overrides,\n",
    "    ignore_errors=True,\n",
    "    null_values=null_values\n",
    ")"
   ]
  },
  {
   "cell_type": "markdown",
   "metadata": {},
   "source": [
    "Initial Condition Checking"
   ]
  },
  {
   "cell_type": "code",
   "execution_count": 3,
   "metadata": {},
   "outputs": [],
   "source": [
    "def condition(prefix):\n",
    "    return (\n",
    "        (\n",
    "            (pl.col(f\"{prefix}station_name\").is_not_null()) |\n",
    "            (pl.col(f\"{prefix}station_id\").is_not_null()) |\n",
    "            (\n",
    "                (pl.col(f\"{prefix}lat\").is_not_null()) &\n",
    "                (pl.col(f\"{prefix}lng\").is_not_null())\n",
    "            )\n",
    "        ) & (\n",
    "            (pl.col(f\"{prefix}lat\").is_not_null()) &\n",
    "            (pl.col(f\"{prefix}lng\").is_not_null())\n",
    "        ) #Filter out rows with disabled/inactive station\n",
    "    )\n",
    "\n",
    "filter_condition = (\n",
    "    (pl.col(\"started_at\").is_not_null()) &\n",
    "    (pl.col(\"ended_at\").is_not_null()) &\n",
    "    condition(\"start_\") &\n",
    "    condition(\"end_\")\n",
    ")\n",
    "\n",
    "# Apply filter\n",
    "filtered_df = daily_rental_df.filter(filter_condition)"
   ]
  },
  {
   "cell_type": "code",
   "execution_count": null,
   "metadata": {},
   "outputs": [],
   "source": [
    "def count_nulls(df: pl.DataFrame, columns: list) -> pl.DataFrame:\n",
    "    null_counts = {\n",
    "        col: df[col].null_count() for col in columns\n",
    "    }\n",
    "    return pl.DataFrame([null_counts])\n",
    "\n",
    "# Example usage\n",
    "columns_to_check = [\n",
    "    \"start_station_name\", \"start_station_id\", \"start_lat\", \"start_lng\",\n",
    "    \"end_station_name\", \"end_station_id\", \"end_lat\", \"end_lng\"\n",
    "]\n",
    "\n",
    "# Assuming your DataFrame is named `daily_rental`\n",
    "nulls_df = count_nulls(filtered_df, columns_to_check)\n",
    "\n",
    "print(nulls_df)"
   ]
  },
  {
   "cell_type": "code",
   "execution_count": 10,
   "metadata": {},
   "outputs": [
    {
     "name": "stdout",
     "output_type": "stream",
     "text": [
      "daily_rental schema: Schema([('ride_id', String), ('rideable_type', String), ('started_at', Datetime(time_unit='us', time_zone='America/New_York')), ('ended_at', Datetime(time_unit='us', time_zone='America/New_York')), ('start_station_name', String), ('start_station_id', Int64), ('end_station_name', String), ('end_station_id', Int64), ('start_lat', Float64), ('start_lng', Float64), ('end_lat', Float64), ('end_lng', Float64), ('member_casual', String)])\n",
      "Daily rental Shape: (15238380, 13)\n"
     ]
    }
   ],
   "source": [
    "filtered_df = filtered_df.with_columns([\n",
    "    pl.col(\"started_at\").str.to_datetime(\"%d-%m-%Y %H:%M:%S\", strict=False)\n",
    "        .dt.convert_time_zone(\"America/New_York\").alias(\"started_at\"),\n",
    "    pl.col(\"ended_at\").str.to_datetime(\"%d-%m-%Y %H:%M:%S\", strict=False)\n",
    "        .dt.convert_time_zone(\"America/New_York\").alias(\"ended_at\")\n",
    "])\n",
    "\n",
    "# daily_rental_df = pl.DataFrame(daily_rental)\n",
    "print(\"daily_rental schema:\",filtered_df.schema)\n",
    "print(f\"Daily rental Shape: {filtered_df.shape}\")"
   ]
  },
  {
   "cell_type": "code",
   "execution_count": 11,
   "metadata": {},
   "outputs": [],
   "source": [
    "# Write to CSV\n",
    "filtered_df.write_csv(\"daily_rental_filtered.csv\")"
   ]
  }
 ],
 "metadata": {
  "kernelspec": {
   "display_name": ".venv",
   "language": "python",
   "name": "python3"
  },
  "language_info": {
   "codemirror_mode": {
    "name": "ipython",
    "version": 3
   },
   "file_extension": ".py",
   "mimetype": "text/x-python",
   "name": "python",
   "nbconvert_exporter": "python",
   "pygments_lexer": "ipython3",
   "version": "3.10.11"
  }
 },
 "nbformat": 4,
 "nbformat_minor": 2
}
